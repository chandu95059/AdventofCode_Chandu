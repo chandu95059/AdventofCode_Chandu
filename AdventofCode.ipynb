{
  "nbformat": 4,
  "nbformat_minor": 0,
  "metadata": {
    "colab": {
      "provenance": []
    },
    "kernelspec": {
      "name": "python3",
      "display_name": "Python 3"
    },
    "language_info": {
      "name": "python"
    }
  },
  "cells": [
    {
      "cell_type": "code",
      "source": [
        "\n",
        "import requests\n",
        "session_id=\"53616c7465645f5ff892c6c8f743fa0e24e86eb129f3d51c00868da92dda112f8ee07f70d8fcf6932ecc24e9d0a91871ca7b857460de0b049aa436224557efdc\"\n",
        "def get_advent_of_code_input(year,day,session_id):\n",
        "  url=f\"https://adventofcode.com/{year}/day/{day}/input\"\n",
        "  headers = {\"Cookie\":f\"session={session_id}\"}\n",
        "  response = requests.get(url,headers=headers)\n",
        "  if(response.status_code==200):\n",
        "    return response.text.strip()\n",
        "  else:\n",
        "    print(f\"Failed to fetch data. {response.status_code}\")\n",
        "    return None\n",
        "# import requests\n",
        "# session_id=\"53616c7465645f5fc9b2c2a3ac7e51d79a7e93848102302526ecc97df1c276cfad384c010b1b5182a1ba9aad622c0bdd89b059ec8e205d139a09adee778edfdc\"\n",
        "def get_advent_of_code_input2(year,day,session_id):\n",
        "  url=f\"https://adventofcode.com/{year}/day/{day}/input\"\n",
        "  headers = {\"Cookie\":f\"session={session_id}\"}\n",
        "  response = requests.get(url,headers=headers)\n",
        "  if(response.status_code==200):\n",
        "    return response.text\n",
        "  else:\n",
        "    print(f\"Failed to fetch data. {response.status_code}\")\n",
        "    return None\n",
        "def load(year,day):\n",
        "  return get_advent_of_code_input(year,day,session_id)\n",
        "def load2(year,day):\n",
        "  return get_advent_of_code_input2(year,day,session_id)"
      ],
      "metadata": {
        "id": "d8vG2BvfcOhN"
      },
      "execution_count": 4,
      "outputs": []
    },
    {
      "cell_type": "code",
      "execution_count": 5,
      "metadata": {
        "colab": {
          "base_uri": "https://localhost:8080/"
        },
        "id": "8RNADK9jbU0L",
        "outputId": "a41fea83-5ca3-42d3-eaad-06db67e35f1d"
      },
      "outputs": [
        {
          "output_type": "stream",
          "name": "stdout",
          "text": [
            "74\n"
          ]
        }
      ],
      "source": [
        "s = ')())())'\n",
        "s=load(2015,1)\n",
        "temp = 0\n",
        "for i in s:\n",
        "  if i=='(':\n",
        "    temp+=1\n",
        "  else:\n",
        "    temp-=1\n",
        "print(temp)"
      ]
    }
  ]
}